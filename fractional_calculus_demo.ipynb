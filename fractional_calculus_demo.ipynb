# Fractional Calculus and Anomalous Diffusion
This notebook demonstrates anomalous diffusion using fractional derivatives, which model memory effects in physical systems. The fractional order (\( \alpha \)) controls the strength of memory, affecting how the system evolves over time.

import numpy as np
import matplotlib.pyplot as plt
from scipy.special import gamma

def fractional_derivative_kernel(alpha, t, tau):
    """Computes the fractional derivative memory kernel."""
    return (t - tau)**(-alpha) / gamma(1 - alpha)

def anomalous_diffusion(time_steps, alpha=0.5):
    """Simulates anomalous diffusion using fractional derivatives."""
    position = np.zeros(time_steps)
    for t in range(1, time_steps):
        memory_sum = sum(fractional_derivative_kernel(alpha, t, tau) * position[tau] for tau in range(t))
        position[t] = position[t-1] + np.random.normal(0, 1) + 0.1 * memory_sum
    return position

# Parameters for the simulation
time_steps = 500
alpha_values = [0.2, 0.5, 0.8]

# Plot results for different alpha values
plt.figure(figsize=(10, 6))
for alpha in alpha_values:
    result = anomalous_diffusion(time_steps, alpha=alpha)
    plt.plot(result, label=f"Alpha = {alpha}")

# Plot formatting
plt.title("Anomalous Diffusion with Memory Effects")
plt.xlabel("Time Steps")
plt.ylabel("Position")
plt.legend()
plt.grid(True)
plt.show()

# Observations
- Lower fractional orders (\( \alpha \)) result in weaker memory effects, closer to random diffusion.
- Higher fractional orders introduce stronger memory effects, leading to larger deviations.
- Fractional derivatives provide a flexible tool for modeling real-world systems with historical dependencies.


